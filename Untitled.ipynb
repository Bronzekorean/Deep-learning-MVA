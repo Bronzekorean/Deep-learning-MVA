{
 "cells": [
  {
   "cell_type": "code",
   "execution_count": 5,
   "metadata": {},
   "outputs": [],
   "source": [
    "from mp1 import *\n",
    "import matplotlib.pyplot as plt\n",
    "import numpy as np\n",
    "\n",
    "import keras\n",
    "from keras.models import Sequential\n",
    "from keras.layers import Dense, Activation,Convolution2D,MaxPooling2D,Flatten,BatchNormalization,Dropout\n",
    "from keras import optimizers\n",
    "from sklearn.preprocessing import StandardScaler\n",
    "from keras.callbacks import EarlyStopping, ModelCheckpoint\n",
    "from keras.layers import UpSampling2D"
   ]
  },
  {
   "cell_type": "code",
   "execution_count": 7,
   "metadata": {},
   "outputs": [
    {
     "name": "stdout",
     "output_type": "stream",
     "text": [
      "Creating data:\n",
      "0\n",
      "Creating data:\n",
      "0\n"
     ]
    }
   ],
   "source": [
    "[X_train, Y_train] = generate_dataset_classification(300, 20)\n",
    "[X_test, Y_test] = generate_test_set_classification()\n",
    "Y_train_categorical = keras.utils.to_categorical(Y_train)\n",
    "nb_of_classes = 3\n",
    "im_size = int( np.sqrt( X_train.shape[1] ) )"
   ]
  },
  {
   "cell_type": "markdown",
   "metadata": {},
   "source": [
    "Using stochastic gradient descent"
   ]
  },
  {
   "cell_type": "code",
   "execution_count": 10,
   "metadata": {},
   "outputs": [
    {
     "name": "stdout",
     "output_type": "stream",
     "text": [
      "Train on 300 samples, validate on 300 samples\n",
      "Epoch 1/10\n",
      " - 0s - loss: 1.1579 - acc: 0.4600 - val_loss: 1.3227 - val_acc: 0.3533\n",
      "Epoch 2/10\n",
      " - 0s - loss: 1.0169 - acc: 0.5200 - val_loss: 1.4298 - val_acc: 0.2933\n",
      "Epoch 3/10\n",
      " - 0s - loss: 0.9356 - acc: 0.5767 - val_loss: 1.1884 - val_acc: 0.3900\n",
      "Epoch 4/10\n",
      " - 0s - loss: 0.8859 - acc: 0.6000 - val_loss: 1.2515 - val_acc: 0.3367\n",
      "Epoch 5/10\n",
      " - 0s - loss: 0.8156 - acc: 0.6633 - val_loss: 1.2360 - val_acc: 0.4000\n",
      "Epoch 6/10\n",
      " - 0s - loss: 0.7910 - acc: 0.6667 - val_loss: 1.2748 - val_acc: 0.3633\n",
      "Epoch 7/10\n",
      " - 0s - loss: 0.7760 - acc: 0.6767 - val_loss: 1.3836 - val_acc: 0.3900\n",
      "Epoch 8/10\n",
      " - 0s - loss: 0.6986 - acc: 0.7267 - val_loss: 1.2546 - val_acc: 0.3333\n",
      "Epoch 9/10\n",
      " - 0s - loss: 0.6838 - acc: 0.7533 - val_loss: 1.2929 - val_acc: 0.3733\n",
      "Epoch 10/10\n",
      " - 0s - loss: 0.6419 - acc: 0.7900 - val_loss: 1.3794 - val_acc: 0.3667\n"
     ]
    },
    {
     "data": {
      "text/plain": [
       "<keras.callbacks.History at 0x7f7cfc53b908>"
      ]
     },
     "execution_count": 10,
     "metadata": {},
     "output_type": "execute_result"
    }
   ],
   "source": [
    "model = Sequential()\n",
    "model.add(Dense(nb_of_classes,input_shape = ( im_size**2 ,), activation = 'softmax'))\n",
    "model.compile(loss = 'categorical_crossentropy', optimizer = optimizers.SGD(lr=0.001),metrics = ['acc']) \n",
    "model.fit(X_train, Y_train_categorical, validation_data = ( X_test, Y_test ),epochs = 10, batch_size = 32, verbose=2)"
   ]
  },
  {
   "cell_type": "markdown",
   "metadata": {},
   "source": [
    "Using Adam optimiser"
   ]
  },
  {
   "cell_type": "code",
   "execution_count": 11,
   "metadata": {},
   "outputs": [
    {
     "name": "stdout",
     "output_type": "stream",
     "text": [
      "Train on 300 samples, validate on 300 samples\n",
      "Epoch 1/10\n",
      "300/300 [==============================] - 0s 636us/step - loss: 1.7605 - acc: 0.3933 - val_loss: 1.5437 - val_acc: 0.2700\n",
      "Epoch 2/10\n",
      "300/300 [==============================] - 0s 91us/step - loss: 0.9407 - acc: 0.5667 - val_loss: 1.4032 - val_acc: 0.3500\n",
      "Epoch 3/10\n",
      "300/300 [==============================] - 0s 88us/step - loss: 0.7160 - acc: 0.6200 - val_loss: 1.9541 - val_acc: 0.3967\n",
      "Epoch 4/10\n",
      "300/300 [==============================] - 0s 87us/step - loss: 0.4201 - acc: 0.8500 - val_loss: 2.0938 - val_acc: 0.3567\n",
      "Epoch 5/10\n",
      "300/300 [==============================] - 0s 83us/step - loss: 0.3462 - acc: 0.8433 - val_loss: 1.8684 - val_acc: 0.3600\n",
      "Epoch 6/10\n",
      "300/300 [==============================] - 0s 86us/step - loss: 0.2743 - acc: 0.9467 - val_loss: 2.1490 - val_acc: 0.3667\n",
      "Epoch 7/10\n",
      "300/300 [==============================] - 0s 92us/step - loss: 0.2584 - acc: 0.9200 - val_loss: 2.0764 - val_acc: 0.3133\n",
      "Epoch 8/10\n",
      "300/300 [==============================] - 0s 82us/step - loss: 0.2553 - acc: 0.9000 - val_loss: 2.1437 - val_acc: 0.3433\n",
      "Epoch 9/10\n",
      "300/300 [==============================] - 0s 88us/step - loss: 0.1920 - acc: 0.9800 - val_loss: 2.4602 - val_acc: 0.3700\n",
      "Epoch 10/10\n",
      "300/300 [==============================] - 0s 83us/step - loss: 0.2225 - acc: 0.9267 - val_loss: 2.4093 - val_acc: 0.3767\n"
     ]
    },
    {
     "data": {
      "text/plain": [
       "<keras.callbacks.History at 0x7f7cfc0e2668>"
      ]
     },
     "execution_count": 11,
     "metadata": {},
     "output_type": "execute_result"
    }
   ],
   "source": [
    "model = Sequential()\n",
    "model.add(Dense(nb_of_classes,input_shape = ( im_size**2 ,), activation = 'softmax'))\n",
    "model.compile(loss = 'categorical_crossentropy', optimizer = 'adam',metrics = ['acc']) \n",
    "model.fit(X_train, Y_train_categorical, validation_data = ( X_test, Y_test ),epochs = 10, batch_size = 32)"
   ]
  },
  {
   "cell_type": "code",
   "execution_count": 12,
   "metadata": {},
   "outputs": [
    {
     "data": {
      "image/png": "[encoded data removed]",
      "text/plain": [
       "<Figure size 432x288 with 1 Axes>"
      ]
     },
     "metadata": {},
     "output_type": "display_data"
    },
    {
     "data": {
      "image/png": "[encoded data removed]",
      "text/plain": [
       "<Figure size 432x288 with 1 Axes>"
      ]
     },
     "metadata": {},
     "output_type": "display_data"
    },
    {
     "data": {
      "image/png": "[encoded data removed]",
      "text/plain": [
       "<Figure size 432x288 with 1 Axes>"
      ]
     },
     "metadata": {},
     "output_type": "display_data"
    }
   ],
   "source": [
    "W,b = model.get_weights()\n",
    "plt.figure(1)\n",
    "plt.imshow(W[:,0].reshape(72,72), cmap='gray')\n",
    "plt.title('rectangle')\n",
    "plt.savefig('rectangle.png', dpi=500)\n",
    "\n",
    "\n",
    "plt.figure(2)\n",
    "plt.imshow(W[:,1].reshape(72,72), cmap='gray')\n",
    "plt.title('circle')\n",
    "plt.savefig('circle.png', dpi=500)\n",
    "\n",
    "plt.figure(3)\n",
    "plt.imshow(W[:,2].reshape(72,72), cmap='gray')\n",
    "plt.title('triangle')\n",
    "plt.savefig('triangle.png', dpi=500)\n",
    "\n"
   ]
  },
  {
   "cell_type": "code",
   "execution_count": 14,
   "metadata": {},
   "outputs": [
    {
     "name": "stdout",
     "output_type": "stream",
     "text": [
      "Creating data:\n",
      "0\n",
      "1000\n",
      "2000\n",
      "3000\n",
      "4000\n",
      "5000\n",
      "6000\n",
      "Creating data:\n",
      "0\n",
      "Train on 7000 samples, validate on 300 samples\n",
      "Epoch 1/20\n",
      "7000/7000 [==============================] - 7s 953us/step - loss: 0.7560 - acc: 0.6781 - val_loss: 0.6008 - val_acc: 0.7067\n",
      "Epoch 2/20\n",
      "7000/7000 [==============================] - 7s 999us/step - loss: 0.4841 - acc: 0.8363 - val_loss: 0.3940 - val_acc: 0.8767\n",
      "Epoch 3/20\n",
      "7000/7000 [==============================] - 7s 951us/step - loss: 0.3690 - acc: 0.8834 - val_loss: 0.3537 - val_acc: 0.8733\n",
      "Epoch 4/20\n",
      "7000/7000 [==============================] - 6s 902us/step - loss: 0.2838 - acc: 0.9141 - val_loss: 0.3076 - val_acc: 0.8967\n",
      "Epoch 5/20\n",
      "7000/7000 [==============================] - 6s 881us/step - loss: 0.2270 - acc: 0.9340 - val_loss: 0.2177 - val_acc: 0.9100\n",
      "Epoch 6/20\n",
      "7000/7000 [==============================] - 6s 880us/step - loss: 0.1877 - acc: 0.9433 - val_loss: 0.1902 - val_acc: 0.9333\n",
      "Epoch 7/20\n",
      "7000/7000 [==============================] - 6s 884us/step - loss: 0.1529 - acc: 0.9564 - val_loss: 0.1968 - val_acc: 0.9367\n",
      "Epoch 8/20\n",
      "7000/7000 [==============================] - 6s 879us/step - loss: 0.1386 - acc: 0.9586 - val_loss: 0.1675 - val_acc: 0.9367\n",
      "Epoch 9/20\n",
      "7000/7000 [==============================] - 6s 879us/step - loss: 0.1160 - acc: 0.9674 - val_loss: 0.1960 - val_acc: 0.9467\n",
      "Epoch 10/20\n",
      "7000/7000 [==============================] - 6s 892us/step - loss: 0.1069 - acc: 0.9704 - val_loss: 0.1496 - val_acc: 0.9467\n",
      "Epoch 11/20\n",
      "7000/7000 [==============================] - 6s 882us/step - loss: 0.0935 - acc: 0.9751 - val_loss: 0.1474 - val_acc: 0.9500\n",
      "Epoch 12/20\n",
      "7000/7000 [==============================] - 6s 896us/step - loss: 0.0882 - acc: 0.9741 - val_loss: 0.1370 - val_acc: 0.9600\n",
      "Epoch 13/20\n",
      "7000/7000 [==============================] - 6s 902us/step - loss: 0.0802 - acc: 0.9800 - val_loss: 0.1511 - val_acc: 0.9500\n",
      "Epoch 14/20\n",
      "7000/7000 [==============================] - 6s 887us/step - loss: 0.0720 - acc: 0.9819 - val_loss: 0.1220 - val_acc: 0.9567\n",
      "Epoch 15/20\n",
      "7000/7000 [==============================] - 6s 894us/step - loss: 0.0644 - acc: 0.9837 - val_loss: 0.1446 - val_acc: 0.9467\n",
      "Epoch 16/20\n",
      "7000/7000 [==============================] - 6s 909us/step - loss: 0.0593 - acc: 0.9847 - val_loss: 0.1281 - val_acc: 0.9567\n",
      "Epoch 17/20\n",
      "7000/7000 [==============================] - 6s 892us/step - loss: 0.0558 - acc: 0.9869 - val_loss: 0.1290 - val_acc: 0.9600\n",
      "Epoch 18/20\n",
      "7000/7000 [==============================] - 7s 937us/step - loss: 0.0483 - acc: 0.9903 - val_loss: 0.1324 - val_acc: 0.9600\n",
      "Epoch 19/20\n",
      "7000/7000 [==============================] - 6s 896us/step - loss: 0.0456 - acc: 0.9910 - val_loss: 0.1230 - val_acc: 0.9600\n",
      "Epoch 20/20\n",
      "7000/7000 [==============================] - 6s 889us/step - loss: 0.0394 - acc: 0.9927 - val_loss: 0.1185 - val_acc: 0.9600\n",
      "300/300 [==============================] - 0s 431us/step\n",
      "Model described in class:  [0.11850676655769349, 0.9600000007947286]\n"
     ]
    }
   ],
   "source": [
    "[X_train, Y_train] = generate_dataset_classification(7000, 20, True)\n",
    "[X_test, Y_test] = generate_test_set_classification()\n",
    "\n",
    "Y_train_categorical = keras.utils.to_categorical(Y_train)\n",
    "\n",
    "X_train = X_train.reshape((-1,im_size,im_size,1))\n",
    "X_test = X_test.reshape((-1,im_size,im_size,1))\n",
    "\n",
    "model =Sequential()\n",
    "\n",
    "model.add(Convolution2D(16,kernel_size=(5,5),input_shape=(72,72,1,)))\n",
    "model.add(MaxPooling2D(pool_size=(3,3)))\n",
    "model.add(Flatten())\n",
    "model.add(Dense(nb_of_classes,activation = 'softmax'))\n",
    " \n",
    "model.compile(loss = 'categorical_crossentropy', optimizer = 'adam',metrics=['acc']) \n",
    "\n",
    "model.fit(X_train,Y_train_categorical,validation_data=(X_test,Y_test),epochs=20,batch_size=32)\n",
    "\n",
    "print('Model described in class: ',model.evaluate(X_test, Y_test))"
   ]
  },
  {
   "cell_type": "markdown",
   "metadata": {},
   "source": [
    "### A Classification problem"
   ]
  },
  {
   "cell_type": "code",
   "execution_count": 15,
   "metadata": {},
   "outputs": [
    {
     "name": "stdout",
     "output_type": "stream",
     "text": [
      "Train on 6300 samples, validate on 700 samples\n",
      "Epoch 1/10\n",
      "6300/6300 [==============================] - 13s 2ms/step - loss: 0.7853 - acc: 0.6576 - val_loss: 0.5507 - val_acc: 0.8257\n",
      "Epoch 2/10\n",
      "6300/6300 [==============================] - 12s 2ms/step - loss: 0.4954 - acc: 0.8238 - val_loss: 0.3975 - val_acc: 0.8714\n",
      "Epoch 3/10\n",
      "6300/6300 [==============================] - 12s 2ms/step - loss: 0.3443 - acc: 0.8887 - val_loss: 0.2997 - val_acc: 0.8971\n",
      "Epoch 4/10\n",
      "6300/6300 [==============================] - 12s 2ms/step - loss: 0.2599 - acc: 0.9233 - val_loss: 0.2263 - val_acc: 0.9343\n",
      "Epoch 5/10\n",
      "6300/6300 [==============================] - 12s 2ms/step - loss: 0.1999 - acc: 0.9375 - val_loss: 0.1877 - val_acc: 0.9471\n",
      "Epoch 6/10\n",
      "6300/6300 [==============================] - 12s 2ms/step - loss: 0.1682 - acc: 0.9500 - val_loss: 0.1821 - val_acc: 0.9486\n",
      "Epoch 7/10\n",
      "6300/6300 [==============================] - 12s 2ms/step - loss: 0.1448 - acc: 0.9544 - val_loss: 0.1477 - val_acc: 0.9557\n",
      "Epoch 8/10\n",
      "6300/6300 [==============================] - 12s 2ms/step - loss: 0.1329 - acc: 0.9589 - val_loss: 0.1680 - val_acc: 0.9414\n",
      "Epoch 9/10\n",
      "6300/6300 [==============================] - 12s 2ms/step - loss: 0.1107 - acc: 0.9662 - val_loss: 0.1344 - val_acc: 0.9686\n",
      "Epoch 10/10\n",
      "6300/6300 [==============================] - 12s 2ms/step - loss: 0.0984 - acc: 0.9702 - val_loss: 0.1123 - val_acc: 0.9586\n",
      "300/300 [==============================] - 0s 574us/step\n",
      "my network score:  [0.1415074050426483, 0.9600000007947286]\n"
     ]
    }
   ],
   "source": [
    "model =Sequential()\n",
    "\n",
    "model.add(Convolution2D(45,kernel_size=(5,5),input_shape=(72,72,1,)))\n",
    "model.add(MaxPooling2D(pool_size=(3,3)))\n",
    "model.add(Flatten())\n",
    "model.add(Dropout(0.35))\n",
    "model.add(Dense(nb_of_classes,activation = 'softmax'))\n",
    "\n",
    "\n",
    "model.compile(loss = 'categorical_crossentropy', optimizer = 'adam',metrics=['acc']) \n",
    "model.fit(X_train,Y_train_categorical,validation_split=0.1,epochs=10,batch_size=32)\n",
    "print('my network score: ',model.evaluate(X_test, Y_test))"
   ]
  },
  {
   "cell_type": "markdown",
   "metadata": {},
   "source": [
    "### Regression problem\n"
   ]
  },
  {
   "cell_type": "code",
   "execution_count": 16,
   "metadata": {},
   "outputs": [
    {
     "name": "stdout",
     "output_type": "stream",
     "text": [
      "Creating data:\n",
      "0\n",
      "1000\n",
      "2000\n",
      "3000\n",
      "4000\n",
      "Creating data:\n",
      "0\n",
      "Train on 5000 samples, validate on 300 samples\n",
      "Epoch 1/100\n",
      "5000/5000 [==============================] - 0s 99us/step - loss: 1.4162 - val_loss: 1.1242\n",
      "Epoch 2/100\n",
      "5000/5000 [==============================] - 0s 53us/step - loss: 0.9742 - val_loss: 0.9497\n",
      "Epoch 3/100\n",
      "5000/5000 [==============================] - 0s 53us/step - loss: 1.0071 - val_loss: 0.9995\n",
      "Epoch 4/100\n",
      "5000/5000 [==============================] - 0s 55us/step - loss: 0.9512 - val_loss: 0.9069\n",
      "Epoch 5/100\n",
      "5000/5000 [==============================] - 0s 59us/step - loss: 0.9841 - val_loss: 1.1061\n",
      "Epoch 6/100\n",
      "5000/5000 [==============================] - 0s 54us/step - loss: 0.9639 - val_loss: 1.1149\n",
      "Epoch 7/100\n",
      "5000/5000 [==============================] - 0s 53us/step - loss: 0.9720 - val_loss: 1.1243\n",
      "Epoch 8/100\n",
      "5000/5000 [==============================] - 0s 55us/step - loss: 0.9673 - val_loss: 1.1272\n",
      "Epoch 9/100\n",
      "5000/5000 [==============================] - 0s 54us/step - loss: 0.9722 - val_loss: 0.9718\n",
      "Epoch 10/100\n",
      "5000/5000 [==============================] - 0s 52us/step - loss: 0.9123 - val_loss: 0.9968\n",
      "Epoch 11/100\n",
      "5000/5000 [==============================] - 0s 52us/step - loss: 0.9601 - val_loss: 0.9210\n",
      "Epoch 12/100\n",
      "5000/5000 [==============================] - 0s 53us/step - loss: 0.9253 - val_loss: 0.9313\n",
      "Epoch 13/100\n",
      "5000/5000 [==============================] - 0s 57us/step - loss: 0.9418 - val_loss: 1.0383\n",
      "Epoch 14/100\n",
      "5000/5000 [==============================] - 0s 53us/step - loss: 0.9335 - val_loss: 1.0109\n",
      "Epoch 15/100\n",
      "5000/5000 [==============================] - 0s 54us/step - loss: 0.9016 - val_loss: 1.0194\n",
      "Epoch 16/100\n",
      "5000/5000 [==============================] - 0s 52us/step - loss: 0.9174 - val_loss: 1.0830\n",
      "Epoch 17/100\n",
      "5000/5000 [==============================] - 0s 53us/step - loss: 0.9207 - val_loss: 1.0053\n",
      "Epoch 18/100\n",
      "5000/5000 [==============================] - 0s 52us/step - loss: 0.8803 - val_loss: 1.0893\n",
      "Epoch 19/100\n",
      "5000/5000 [==============================] - 0s 53us/step - loss: 0.9429 - val_loss: 1.2859\n",
      "Epoch 20/100\n",
      "5000/5000 [==============================] - 0s 53us/step - loss: 0.9072 - val_loss: 1.0581\n",
      "Epoch 21/100\n",
      "5000/5000 [==============================] - 0s 54us/step - loss: 0.9266 - val_loss: 0.9625\n",
      "Epoch 22/100\n",
      "5000/5000 [==============================] - 0s 53us/step - loss: 0.8734 - val_loss: 1.3479\n",
      "Epoch 23/100\n",
      "5000/5000 [==============================] - 0s 52us/step - loss: 0.9081 - val_loss: 1.0452\n",
      "Epoch 24/100\n",
      "5000/5000 [==============================] - 0s 53us/step - loss: 0.9093 - val_loss: 1.1129\n",
      "Epoch 25/100\n",
      "5000/5000 [==============================] - 0s 53us/step - loss: 0.9315 - val_loss: 0.9792\n",
      "Epoch 26/100\n",
      "5000/5000 [==============================] - 0s 55us/step - loss: 0.9257 - val_loss: 0.9276\n",
      "Epoch 27/100\n",
      "5000/5000 [==============================] - 0s 53us/step - loss: 0.8778 - val_loss: 0.9638\n",
      "Epoch 28/100\n",
      "5000/5000 [==============================] - 0s 54us/step - loss: 0.8907 - val_loss: 1.1839\n",
      "Epoch 29/100\n",
      "5000/5000 [==============================] - 0s 55us/step - loss: 0.9166 - val_loss: 0.9117\n",
      "Epoch 30/100\n",
      "5000/5000 [==============================] - 0s 54us/step - loss: 0.8544 - val_loss: 0.8787\n",
      "Epoch 31/100\n",
      "5000/5000 [==============================] - 0s 52us/step - loss: 0.9306 - val_loss: 1.1469\n",
      "Epoch 32/100\n",
      "5000/5000 [==============================] - 0s 53us/step - loss: 0.8479 - val_loss: 1.1193\n",
      "Epoch 33/100\n",
      "5000/5000 [==============================] - 0s 53us/step - loss: 0.9316 - val_loss: 1.0770\n",
      "Epoch 34/100\n",
      "5000/5000 [==============================] - 0s 54us/step - loss: 0.8906 - val_loss: 1.3541\n",
      "Epoch 35/100\n",
      "5000/5000 [==============================] - 0s 54us/step - loss: 0.8330 - val_loss: 1.3218\n",
      "Epoch 36/100\n",
      "5000/5000 [==============================] - 0s 54us/step - loss: 0.8632 - val_loss: 1.1469\n",
      "Epoch 37/100\n",
      "5000/5000 [==============================] - 0s 53us/step - loss: 0.8914 - val_loss: 1.1030\n",
      "Epoch 38/100\n",
      "5000/5000 [==============================] - 0s 54us/step - loss: 0.8453 - val_loss: 0.9637\n",
      "Epoch 39/100\n",
      "5000/5000 [==============================] - 0s 53us/step - loss: 0.8356 - val_loss: 1.1153\n",
      "Epoch 40/100\n",
      "5000/5000 [==============================] - 0s 54us/step - loss: 0.8193 - val_loss: 1.0314\n",
      "Epoch 41/100\n",
      "5000/5000 [==============================] - 0s 53us/step - loss: 0.8614 - val_loss: 1.0259\n",
      "Epoch 42/100\n",
      "5000/5000 [==============================] - 0s 53us/step - loss: 0.8814 - val_loss: 0.8888\n",
      "Epoch 43/100\n",
      "5000/5000 [==============================] - 0s 53us/step - loss: 0.8410 - val_loss: 1.0611\n",
      "Epoch 44/100\n",
      "5000/5000 [==============================] - 0s 55us/step - loss: 0.8330 - val_loss: 1.2276\n",
      "Epoch 45/100\n",
      "5000/5000 [==============================] - 0s 53us/step - loss: 0.8461 - val_loss: 1.2969\n",
      "Epoch 46/100\n",
      "5000/5000 [==============================] - 0s 53us/step - loss: 0.8396 - val_loss: 1.3193\n",
      "Epoch 47/100\n",
      "5000/5000 [==============================] - 0s 54us/step - loss: 0.8246 - val_loss: 1.1134\n",
      "Epoch 48/100\n",
      "5000/5000 [==============================] - 0s 53us/step - loss: 0.8345 - val_loss: 1.1866\n",
      "Epoch 49/100\n",
      "5000/5000 [==============================] - 0s 61us/step - loss: 0.8241 - val_loss: 1.1301\n",
      "Epoch 50/100\n",
      "5000/5000 [==============================] - 0s 59us/step - loss: 0.8231 - val_loss: 1.0123\n",
      "Epoch 51/100\n",
      "5000/5000 [==============================] - 0s 55us/step - loss: 0.8111 - val_loss: 1.1846\n",
      "Epoch 52/100\n",
      "5000/5000 [==============================] - 0s 55us/step - loss: 0.8353 - val_loss: 1.0044\n",
      "Epoch 53/100\n",
      "5000/5000 [==============================] - 0s 53us/step - loss: 0.8242 - val_loss: 1.2416\n",
      "Epoch 54/100\n",
      "5000/5000 [==============================] - 0s 60us/step - loss: 0.8227 - val_loss: 1.0164\n",
      "Epoch 55/100\n",
      "5000/5000 [==============================] - 0s 52us/step - loss: 0.8425 - val_loss: 1.0194\n",
      "Epoch 56/100\n",
      "5000/5000 [==============================] - 0s 60us/step - loss: 0.8460 - val_loss: 1.0430\n",
      "Epoch 57/100\n",
      "5000/5000 [==============================] - 0s 55us/step - loss: 0.8037 - val_loss: 1.0073\n",
      "Epoch 58/100\n",
      "5000/5000 [==============================] - 0s 61us/step - loss: 0.7978 - val_loss: 1.1071\n",
      "Epoch 59/100\n",
      "5000/5000 [==============================] - 0s 55us/step - loss: 0.8006 - val_loss: 1.1174\n",
      "Epoch 60/100\n",
      "5000/5000 [==============================] - 0s 63us/step - loss: 0.7991 - val_loss: 1.0609\n",
      "Epoch 61/100\n",
      "5000/5000 [==============================] - 0s 52us/step - loss: 0.8241 - val_loss: 1.0813\n",
      "Epoch 62/100\n",
      "5000/5000 [==============================] - 0s 48us/step - loss: 0.8151 - val_loss: 1.2840\n",
      "Epoch 63/100\n",
      "5000/5000 [==============================] - 0s 57us/step - loss: 0.8093 - val_loss: 1.1754\n",
      "Epoch 64/100\n",
      "5000/5000 [==============================] - 0s 50us/step - loss: 0.8264 - val_loss: 1.2501\n",
      "Epoch 65/100\n",
      "5000/5000 [==============================] - 0s 56us/step - loss: 0.8068 - val_loss: 1.1163\n",
      "Epoch 66/100\n",
      "5000/5000 [==============================] - 0s 46us/step - loss: 0.8292 - val_loss: 1.2477\n",
      "Epoch 67/100\n",
      "5000/5000 [==============================] - 0s 48us/step - loss: 0.8179 - val_loss: 1.1256\n",
      "Epoch 68/100\n",
      "5000/5000 [==============================] - 0s 49us/step - loss: 0.7896 - val_loss: 1.0097\n",
      "Epoch 69/100\n",
      "5000/5000 [==============================] - 0s 55us/step - loss: 0.7924 - val_loss: 0.9573\n",
      "Epoch 70/100\n",
      "5000/5000 [==============================] - 0s 53us/step - loss: 0.7881 - val_loss: 0.9064\n",
      "Epoch 71/100\n",
      "5000/5000 [==============================] - 0s 57us/step - loss: 0.7836 - val_loss: 1.0003\n",
      "Epoch 72/100\n",
      "5000/5000 [==============================] - 0s 51us/step - loss: 0.7904 - val_loss: 1.0513\n",
      "Epoch 73/100\n",
      "5000/5000 [==============================] - 0s 46us/step - loss: 0.7863 - val_loss: 1.2670\n",
      "Epoch 74/100\n",
      "5000/5000 [==============================] - 0s 53us/step - loss: 0.8646 - val_loss: 1.1656\n",
      "Epoch 75/100\n",
      "5000/5000 [==============================] - 0s 54us/step - loss: 0.8034 - val_loss: 0.8930\n",
      "Epoch 76/100\n",
      "5000/5000 [==============================] - 0s 54us/step - loss: 0.8051 - val_loss: 1.1076\n",
      "Epoch 77/100\n",
      "5000/5000 [==============================] - 0s 54us/step - loss: 0.7810 - val_loss: 0.8979\n",
      "Epoch 78/100\n"
     ]
    },
    {
     "name": "stdout",
     "output_type": "stream",
     "text": [
      "5000/5000 [==============================] - 0s 61us/step - loss: 0.7517 - val_loss: 1.2619\n",
      "Epoch 79/100\n",
      "5000/5000 [==============================] - 0s 49us/step - loss: 0.7997 - val_loss: 1.0394\n",
      "Epoch 80/100\n",
      "5000/5000 [==============================] - 0s 49us/step - loss: 0.7974 - val_loss: 1.0587\n",
      "Epoch 81/100\n",
      "5000/5000 [==============================] - 0s 50us/step - loss: 0.7652 - val_loss: 1.2075\n",
      "Epoch 82/100\n",
      "5000/5000 [==============================] - 0s 50us/step - loss: 0.7507 - val_loss: 0.9702\n",
      "Epoch 83/100\n",
      "5000/5000 [==============================] - 0s 49us/step - loss: 0.8004 - val_loss: 1.0718\n",
      "Epoch 84/100\n",
      "5000/5000 [==============================] - 0s 49us/step - loss: 0.7776 - val_loss: 0.9122\n",
      "Epoch 85/100\n",
      "5000/5000 [==============================] - 0s 49us/step - loss: 0.8079 - val_loss: 1.1490\n",
      "Epoch 86/100\n",
      "5000/5000 [==============================] - 0s 50us/step - loss: 0.7849 - val_loss: 1.1738\n",
      "Epoch 87/100\n",
      "5000/5000 [==============================] - 0s 48us/step - loss: 0.7649 - val_loss: 1.2344\n",
      "Epoch 88/100\n",
      "5000/5000 [==============================] - 0s 51us/step - loss: 0.7336 - val_loss: 1.0351\n",
      "Epoch 89/100\n",
      "5000/5000 [==============================] - 0s 54us/step - loss: 0.7792 - val_loss: 1.0344\n",
      "Epoch 90/100\n",
      "5000/5000 [==============================] - 0s 48us/step - loss: 0.7416 - val_loss: 0.9955\n",
      "Epoch 91/100\n",
      "5000/5000 [==============================] - 0s 51us/step - loss: 0.7528 - val_loss: 1.0021\n",
      "Epoch 92/100\n",
      "5000/5000 [==============================] - 0s 50us/step - loss: 0.7486 - val_loss: 0.9856\n",
      "Epoch 93/100\n",
      "5000/5000 [==============================] - 0s 50us/step - loss: 0.7674 - val_loss: 0.9584\n",
      "Epoch 94/100\n",
      "5000/5000 [==============================] - 0s 49us/step - loss: 0.7650 - val_loss: 1.0177\n",
      "Epoch 95/100\n",
      "5000/5000 [==============================] - 0s 49us/step - loss: 0.7617 - val_loss: 0.9249\n",
      "Epoch 96/100\n",
      "5000/5000 [==============================] - 0s 49us/step - loss: 0.7629 - val_loss: 1.2904\n",
      "Epoch 97/100\n",
      "5000/5000 [==============================] - 0s 52us/step - loss: 0.7755 - val_loss: 1.0228\n",
      "Epoch 98/100\n",
      "5000/5000 [==============================] - 0s 51us/step - loss: 0.7520 - val_loss: 0.9949\n",
      "Epoch 99/100\n",
      "5000/5000 [==============================] - 0s 52us/step - loss: 0.7460 - val_loss: 1.0250\n",
      "Epoch 100/100\n",
      "5000/5000 [==============================] - 0s 53us/step - loss: 0.7595 - val_loss: 0.9998\n"
     ]
    },
    {
     "data": {
      "text/plain": [
       "<keras.callbacks.History at 0x7f7c438a0f28>"
      ]
     },
     "execution_count": 16,
     "metadata": {},
     "output_type": "execute_result"
    }
   ],
   "source": [
    "[X_train, Y_train] = generate_dataset_regression(5000, 20)\n",
    "[X_test, Y_test] = generate_test_set_regression()\n",
    "\n",
    "normalizer = StandardScaler()\n",
    "y_train_normalize = normalizer.fit_transform(Y_train)\n",
    "y_test_normalize = normalizer.transform(Y_test)\n",
    "\n",
    "\n",
    "nb_of_features_output = 6\n",
    "\n",
    "\n",
    "model =Sequential()\n",
    "model.add(Dense(nb_of_features_output,input_shape=(X_train.shape[1],)))\n",
    "\n",
    "model.compile(loss='mean_squared_error', optimizer='adam')\n",
    "\n",
    "model.fit(X_train,y_train_normalize,validation_data=(X_test,y_test_normalize),epochs=100,batch_size=32)\n"
   ]
  },
  {
   "cell_type": "code",
   "execution_count": 18,
   "metadata": {},
   "outputs": [
    {
     "name": "stdout",
     "output_type": "stream",
     "text": [
      "300/300 [==============================] - 0s 42us/step\n",
      "network score  0.9997774124145508\n"
     ]
    }
   ],
   "source": [
    "predictions_test = model.predict(X_test)\n",
    "\n",
    "Y_pred = normalizer.inverse_transform(predictions_test)\n",
    "\n",
    "print('network score ',model.evaluate(X_test, y_test_normalize))\n",
    "#visualize_prediction(X_test[100], Y_pred[100])\n"
   ]
  },
  {
   "cell_type": "markdown",
   "metadata": {},
   "source": [
    "## Denoising Task\n"
   ]
  },
  {
   "cell_type": "code",
   "execution_count": 41,
   "metadata": {},
   "outputs": [
    {
     "name": "stdout",
     "output_type": "stream",
     "text": [
      "Creating data:\n",
      "0\n",
      "1000\n",
      "2000\n",
      "3000\n",
      "4000\n",
      "Creating data:\n",
      "0\n"
     ]
    }
   ],
   "source": [
    "[Y_train, X_train] = generate_noise(5000, 20)\n",
    "[Y_test, X_test] = generate_test_noise()\n",
    "\n",
    "X_train = X_train.reshape((-1,72,72,1))\n",
    "X_test = X_test.reshape((-1,72,72,1))\n",
    "\n",
    "Y_train = Y_train.reshape((-1,72,72,1))\n",
    "Y_test = Y_test.reshape((-1,72,72,1))\n",
    "\n"
   ]
  },
  {
   "cell_type": "code",
   "execution_count": 43,
   "metadata": {},
   "outputs": [
    {
     "name": "stdout",
     "output_type": "stream",
     "text": [
      "Train on 5000 samples, validate on 300 samples\n",
      "Epoch 1/10\n",
      "5000/5000 [==============================] - 156s 31ms/step - loss: 0.0766 - acc: 0.9481 - val_loss: 0.0069 - val_acc: 0.9939\n",
      "Epoch 2/10\n",
      "5000/5000 [==============================] - 154s 31ms/step - loss: 0.0059 - acc: 0.9946 - val_loss: 0.0049 - val_acc: 0.9955\n",
      "Epoch 3/10\n",
      "5000/5000 [==============================] - 158s 32ms/step - loss: 0.0045 - acc: 0.9959 - val_loss: 0.0040 - val_acc: 0.9963\n",
      "Epoch 4/10\n",
      "5000/5000 [==============================] - 158s 32ms/step - loss: 0.0036 - acc: 0.9967 - val_loss: 0.0031 - val_acc: 0.9973\n",
      "Epoch 5/10\n",
      "5000/5000 [==============================] - 159s 32ms/step - loss: 0.0030 - acc: 0.9973 - val_loss: 0.0026 - val_acc: 0.9977\n",
      "Epoch 6/10\n",
      "5000/5000 [==============================] - 157s 31ms/step - loss: 0.0025 - acc: 0.9978 - val_loss: 0.0022 - val_acc: 0.9981\n",
      "Epoch 7/10\n",
      "5000/5000 [==============================] - 159s 32ms/step - loss: 0.0023 - acc: 0.9980 - val_loss: 0.0020 - val_acc: 0.9982\n",
      "Epoch 8/10\n",
      "5000/5000 [==============================] - 159s 32ms/step - loss: 0.0020 - acc: 0.9982 - val_loss: 0.0019 - val_acc: 0.9984\n",
      "Epoch 9/10\n",
      "5000/5000 [==============================] - 160s 32ms/step - loss: 0.0018 - acc: 0.9983 - val_loss: 0.0017 - val_acc: 0.9984\n",
      "Epoch 10/10\n",
      "5000/5000 [==============================] - 167s 33ms/step - loss: 0.0018 - acc: 0.9984 - val_loss: 0.0016 - val_acc: 0.9986\n",
      "300/300 [==============================] - 6s 20ms/step\n",
      "Autoencoder score  [0.0015555601737772425, 0.9986046806971232]\n"
     ]
    }
   ],
   "source": [
    "from keras.layers import Input, Conv2D\n",
    "from keras.models import Model\n",
    "IMAGE_SIZE = 72\n",
    "\n",
    "input_img = Input(shape=(IMAGE_SIZE, IMAGE_SIZE, 1))\n",
    "x = Conv2D(40, (3, 3), activation='relu', padding='same')(input_img)\n",
    "x = MaxPooling2D((2, 2), padding='same')(x)\n",
    "x = Conv2D(8, (3, 3), activation='relu', padding='same')(x)\n",
    "encode = MaxPooling2D((2, 2), padding='same', name='encoder')(x)\n",
    "\n",
    "\n",
    "x = Conv2D(8, (3, 3), activation='relu', padding='same')(encode)\n",
    "x = UpSampling2D((2, 2))(x)\n",
    "x = Conv2D(40, (3, 3), activation='relu', padding='same')(x)\n",
    "x = UpSampling2D((2, 2))(x)\n",
    "decode = Conv2D(1, (3, 3), activation='sigmoid', padding='same')(x)\n",
    "\n",
    "denoiser = Model(input_img, decode)\n",
    "denoiser.compile(optimizer='adam', loss='mae',metrics=['accuracy'])\n",
    "\n",
    "denoiser.fit(X_train,Y_train,validation_data=(X_test,Y_test),epochs=10,batch_size=32)\n",
    "    \n",
    "\n",
    "print('Autoencoder score ',denoiser.evaluate(X_test, Y_test))\n"
   ]
  },
  {
   "cell_type": "code",
   "execution_count": null,
   "metadata": {},
   "outputs": [],
   "source": []
  }
 ],
 "metadata": {
  "kernelspec": {
   "display_name": "Python 3",
   "language": "python",
   "name": "python3"
  },
  "language_info": {
   "codemirror_mode": {
    "name": "ipython",
    "version": 3
   },
   "file_extension": ".py",
   "mimetype": "text/x-python",
   "name": "python",
   "nbconvert_exporter": "python",
   "pygments_lexer": "ipython3",
   "version": "3.6.7"
  }
 },
 "nbformat": 4,
 "nbformat_minor": 2
}
